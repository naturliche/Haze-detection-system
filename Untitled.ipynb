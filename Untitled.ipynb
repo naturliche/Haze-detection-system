{
 "cells": [
  {
   "cell_type": "code",
   "execution_count": 1,
   "metadata": {},
   "outputs": [],
   "source": [
    "import requests\n",
    "import time\n",
    "import pandas as pd"
   ]
  },
  {
   "cell_type": "code",
   "execution_count": 59,
   "metadata": {},
   "outputs": [],
   "source": [
    "url = 'https://free-api.heweather.net/s6/weather/forecast?location=beijing&key=b73ad3f0ea0c4ae884567768b5485097'\n",
    "def getHTMLText(url):\n",
    "    try:\n",
    "        r = requests.get(url)\n",
    "        r.raise_for_status()\n",
    "        r.encoding = r.apparent_encoding\n",
    "        return r.text\n",
    "    except:\n",
    "        return \"\""
   ]
  },
  {
   "cell_type": "code",
   "execution_count": 45,
   "metadata": {},
   "outputs": [],
   "source": [
    "url1 = 'https://free-api.heweather.net/s6/weather/now?location=beijing&key=b73ad3f0ea0c4ae884567768b5485097'"
   ]
  },
  {
   "cell_type": "code",
   "execution_count": 29,
   "metadata": {},
   "outputs": [
    {
     "data": {
      "text/plain": [
       "'{\"HeWeather6\":[{\"basic\":{\"cid\":\"CN101010100\",\"location\":\"北京\",\"parent_city\":\"北京\",\"admin_area\":\"北京\",\"cnty\":\"中国\",\"lat\":\"39.90498734\",\"lon\":\"116.4052887\",\"tz\":\"+8.00\"},\"update\":{\"loc\":\"2020-07-04 19:57\",\"utc\":\"2020-07-04 11:57\"},\"status\":\"ok\",\"daily_forecast\":[{\"cond_code_d\":\"104\",\"cond_code_n\":\"302\",\"cond_txt_d\":\"阴\",\"cond_txt_n\":\"雷阵雨\",\"date\":\"2020-07-04\",\"hum\":\"60\",\"mr\":\"19:06\",\"ms\":\"03:38\",\"pcpn\":\"0.0\",\"pop\":\"25\",\"pres\":\"993\",\"sr\":\"04:52\",\"ss\":\"19:45\",\"tmp_max\":\"30\",\"tmp_min\":\"22\",\"uv_index\":\"0\",\"vis\":\"24\",\"wind_deg\":\"224\",\"wind_dir\":\"西南风\",\"wind_sc\":\"1-2\",\"wind_spd\":\"4\"},{\"cond_code_d\":\"302\",\"cond_code_n\":\"101\",\"cond_txt_d\":\"雷阵雨\",\"cond_txt_n\":\"多云\",\"date\":\"2020-07-05\",\"hum\":\"68\",\"mr\":\"20:04\",\"ms\":\"04:31\",\"pcpn\":\"0.0\",\"pop\":\"24\",\"pres\":\"991\",\"sr\":\"04:52\",\"ss\":\"19:45\",\"tmp_max\":\"30\",\"tmp_min\":\"22\",\"uv_index\":\"1\",\"vis\":\"24\",\"wind_deg\":\"88\",\"wind_dir\":\"东风\",\"wind_sc\":\"1-2\",\"wind_spd\":\"5\"},{\"cond_code_d\":\"101\",\"cond_code_n\":\"101\",\"cond_txt_d\":\"多云\",\"cond_txt_n\":\"多云\",\"date\":\"2020-07-06\",\"hum\":\"65\",\"mr\":\"20:54\",\"ms\":\"05:31\",\"pcpn\":\"0.0\",\"pop\":\"25\",\"pres\":\"996\",\"sr\":\"04:53\",\"ss\":\"19:45\",\"tmp_max\":\"31\",\"tmp_min\":\"21\",\"uv_index\":\"5\",\"vis\":\"25\",\"wind_deg\":\"63\",\"wind_dir\":\"东北风\",\"wind_sc\":\"1-2\",\"wind_spd\":\"5\"}]}]}'"
      ]
     },
     "execution_count": 29,
     "metadata": {},
     "output_type": "execute_result"
    }
   ],
   "source": [
    "getHTMLText(url)"
   ]
  },
  {
   "cell_type": "code",
   "execution_count": 55,
   "metadata": {},
   "outputs": [
    {
     "data": {
      "text/plain": [
       "'2020-07-04 20:54'"
      ]
     },
     "execution_count": 55,
     "metadata": {},
     "output_type": "execute_result"
    }
   ],
   "source": [
    "dic1 = requests.get(url1).json()\n",
    "dic1[\"HeWeather6\"][0][\"update\"][\"loc\"]"
   ]
  },
  {
   "cell_type": "code",
   "execution_count": null,
   "metadata": {},
   "outputs": [],
   "source": [
    "dic1"
   ]
  },
  {
   "cell_type": "code",
   "execution_count": 60,
   "metadata": {},
   "outputs": [
    {
     "data": {
      "text/plain": [
       "{'HeWeather6': [{'basic': {'cid': 'CN101010100',\n",
       "    'location': '北京',\n",
       "    'parent_city': '北京',\n",
       "    'admin_area': '北京',\n",
       "    'cnty': '中国',\n",
       "    'lat': '39.90498734',\n",
       "    'lon': '116.4052887',\n",
       "    'tz': '+8.00'},\n",
       "   'update': {'loc': '2020-07-04 20:56', 'utc': '2020-07-04 12:56'},\n",
       "   'status': 'ok',\n",
       "   'daily_forecast': [{'cond_code_d': '104',\n",
       "     'cond_code_n': '302',\n",
       "     'cond_txt_d': '阴',\n",
       "     'cond_txt_n': '雷阵雨',\n",
       "     'date': '2020-07-04',\n",
       "     'hum': '60',\n",
       "     'mr': '19:06',\n",
       "     'ms': '03:38',\n",
       "     'pcpn': '0.0',\n",
       "     'pop': '25',\n",
       "     'pres': '993',\n",
       "     'sr': '04:52',\n",
       "     'ss': '19:45',\n",
       "     'tmp_max': '30',\n",
       "     'tmp_min': '22',\n",
       "     'uv_index': '0',\n",
       "     'vis': '22',\n",
       "     'wind_deg': '232',\n",
       "     'wind_dir': '西南风',\n",
       "     'wind_sc': '1-2',\n",
       "     'wind_spd': '5'},\n",
       "    {'cond_code_d': '302',\n",
       "     'cond_code_n': '101',\n",
       "     'cond_txt_d': '雷阵雨',\n",
       "     'cond_txt_n': '多云',\n",
       "     'date': '2020-07-05',\n",
       "     'hum': '62',\n",
       "     'mr': '20:04',\n",
       "     'ms': '04:31',\n",
       "     'pcpn': '0.0',\n",
       "     'pop': '24',\n",
       "     'pres': '991',\n",
       "     'sr': '04:52',\n",
       "     'ss': '19:45',\n",
       "     'tmp_max': '30',\n",
       "     'tmp_min': '22',\n",
       "     'uv_index': '1',\n",
       "     'vis': '24',\n",
       "     'wind_deg': '98',\n",
       "     'wind_dir': '东风',\n",
       "     'wind_sc': '1-2',\n",
       "     'wind_spd': '9'},\n",
       "    {'cond_code_d': '101',\n",
       "     'cond_code_n': '101',\n",
       "     'cond_txt_d': '多云',\n",
       "     'cond_txt_n': '多云',\n",
       "     'date': '2020-07-06',\n",
       "     'hum': '66',\n",
       "     'mr': '20:54',\n",
       "     'ms': '05:31',\n",
       "     'pcpn': '0.0',\n",
       "     'pop': '25',\n",
       "     'pres': '997',\n",
       "     'sr': '04:53',\n",
       "     'ss': '19:45',\n",
       "     'tmp_max': '31',\n",
       "     'tmp_min': '21',\n",
       "     'uv_index': '5',\n",
       "     'vis': '24',\n",
       "     'wind_deg': '43',\n",
       "     'wind_dir': '东北风',\n",
       "     'wind_sc': '1-2',\n",
       "     'wind_spd': '8'}]}]}"
      ]
     },
     "execution_count": 60,
     "metadata": {},
     "output_type": "execute_result"
    }
   ],
   "source": [
    "dic = requests.get(url).json()\n",
    "dic"
   ]
  },
  {
   "cell_type": "code",
   "execution_count": 86,
   "metadata": {},
   "outputs": [
    {
     "data": {
      "text/plain": [
       "['60', '62', '66']"
      ]
     },
     "execution_count": 86,
     "metadata": {},
     "output_type": "execute_result"
    }
   ],
   "source": [
    "#cond_txt\n",
    "tmp1 = []\n",
    "hum1 = []\n",
    "for i in range(3):\n",
    "    a = int(dic[\"HeWeather6\"][0][\"daily_forecast\"][i][\"tmp_max\"])\n",
    "    b = int(dic[\"HeWeather6\"][0][\"daily_forecast\"][i][\"tmp_min\"])\n",
    "    c = (a+b)/2\n",
    "    tmp1.append(c)\n",
    "    hum1.append(dic[\"HeWeather6\"][0][\"daily_forecast\"][i][\"hum\"])\n",
    "tmp1\n",
    "hum1"
   ]
  },
  {
   "cell_type": "code",
   "execution_count": 88,
   "metadata": {},
   "outputs": [],
   "source": [
    "location = \"beijing\"\n",
    "lang = \"en\"\n",
    "url1 = 'https://free-api.heweather.net/s6/weather/lifestyle?location='+location+'&key=b73ad3f0ea0c4ae884567768b5485097'\n",
    "strhtml1 = requests.get(url1)\n",
    "dic1 = strhtml1.json()"
   ]
  },
  {
   "cell_type": "code",
   "execution_count": 116,
   "metadata": {},
   "outputs": [
    {
     "data": {
      "text/plain": [
       "{'basic': {'cid': 'CN101010100',\n",
       "  'location': '北京',\n",
       "  'parent_city': '北京',\n",
       "  'admin_area': '北京',\n",
       "  'cnty': '中国',\n",
       "  'lat': '39.90498734',\n",
       "  'lon': '116.4052887',\n",
       "  'tz': '+8.00'},\n",
       " 'update': {'loc': '2020-07-04 20:55', 'utc': '2020-07-04 12:55'},\n",
       " 'status': 'ok',\n",
       " 'lifestyle': [{'type': 'comf',\n",
       "   'brf': '舒适',\n",
       "   'txt': '白天温度适宜，风力不大，相信您在这样的天气条件下，应会感到比较清爽和舒适。'},\n",
       "  {'type': 'drsg', 'brf': '热', 'txt': '天气热，建议着短裙、短裤、短薄外套、T恤等夏季服装。'},\n",
       "  {'type': 'flu', 'brf': '较易发', 'txt': '天气转凉，空气湿度较大，较易发生感冒，体质较弱的朋友请注意适当防护。'},\n",
       "  {'type': 'sport',\n",
       "   'brf': '较适宜',\n",
       "   'txt': '天气较好，较适宜进行各种运动，但考虑气温较高且湿度较大，请适当降低运动强度，并及时补充水分。'},\n",
       "  {'type': 'trav', 'brf': '适宜', 'txt': '天气较好，但丝毫不会影响您出行的心情。温度适宜又有微风相伴，适宜旅游。'},\n",
       "  {'type': 'uv',\n",
       "   'brf': '最弱',\n",
       "   'txt': '属弱紫外线辐射天气，无需特别防护。若长期在户外，建议涂擦SPF在8-12之间的防晒护肤品。'},\n",
       "  {'type': 'cw', 'brf': '较适宜', 'txt': '较适宜洗车，未来一天无雨，风力较小，擦洗一新的汽车至少能保持一天。'},\n",
       "  {'type': 'air', 'brf': '良', 'txt': '气象条件有利于空气污染物稀释、扩散和清除，可在室外正常活动。'}]}"
      ]
     },
     "execution_count": 116,
     "metadata": {},
     "output_type": "execute_result"
    }
   ],
   "source": [
    "dic1['HeWeather6'][0]"
   ]
  },
  {
   "cell_type": "code",
   "execution_count": 99,
   "metadata": {},
   "outputs": [
    {
     "data": {
      "text/plain": [
       "{'success': '0',\n",
       " 'msgid': '1000571',\n",
       " 'msg': '套餐异常或接口过期,访问NowAPI官网 www.nowapi.com 寻求协助'}"
      ]
     },
     "execution_count": 99,
     "metadata": {},
     "output_type": "execute_result"
    }
   ],
   "source": [
    "url2 = 'http://api.k780.com/?app=weather.pm25&weaid=1&appkey=52742&sign=fcef1c2e4b4e2a6c26ecad7f84c19753&format=json'\n",
    "strhtml2 = requests.get(url2)\n",
    "dic2 = strhtml2.json()\n",
    "dic2"
   ]
  },
  {
   "cell_type": "code",
   "execution_count": 95,
   "metadata": {},
   "outputs": [
    {
     "ename": "SyntaxError",
     "evalue": "Missing parentheses in call to 'print'. Did you mean print(a_result['msgid']+' '+a_result['msg'])? (<ipython-input-95-e3944e801766>, line 22)",
     "output_type": "error",
     "traceback": [
      "\u001b[1;36m  File \u001b[1;32m\"<ipython-input-95-e3944e801766>\"\u001b[1;36m, line \u001b[1;32m22\u001b[0m\n\u001b[1;33m    print a_result['msgid']+' '+a_result['msg']\u001b[0m\n\u001b[1;37m                 ^\u001b[0m\n\u001b[1;31mSyntaxError\u001b[0m\u001b[1;31m:\u001b[0m Missing parentheses in call to 'print'. Did you mean print(a_result['msgid']+' '+a_result['msg'])?\n"
     ]
    }
   ],
   "source": [
    "import json,urllib\n",
    "from urllib import urlencode\n",
    "\n",
    "url = 'http://api.k780.com'\n",
    "params = {\n",
    "  'app' : 'weather.pm25',\n",
    "  'weaid' : '1',\n",
    "  'appkey' : '52742',\n",
    "  'sign' : '9cd5deb6b4cfa310bbc65db80c56ae6a',\n",
    "  'format' : 'json',\n",
    "}\n",
    "params = urlencode(params)\n",
    "\n",
    "f = urllib.urlopen('%s?%s' % (url, params))\n",
    "nowapi_call = f.read()\n",
    "#print content\n",
    "a_result = json.loads(nowapi_call)\n",
    "if a_result:\n",
    "    if a_result['success'] != '0':\n",
    "        print(a_result['result'])\n",
    "    else:\n",
    "        print a_result['msgid']+' '+a_result['msg']\n",
    "else:\n",
    "    print('Request nowapi fail.')"
   ]
  },
  {
   "cell_type": "code",
   "execution_count": 2,
   "metadata": {},
   "outputs": [],
   "source": [
    "import requests"
   ]
  },
  {
   "cell_type": "code",
   "execution_count": 3,
   "metadata": {},
   "outputs": [],
   "source": [
    "url = \"https://pv.sohu.com/cityjson?ie=utf-8\""
   ]
  },
  {
   "cell_type": "code",
   "execution_count": 7,
   "metadata": {},
   "outputs": [
    {
     "name": "stdout",
     "output_type": "stream",
     "text": [
      "<Response [200]>\n"
     ]
    }
   ],
   "source": [
    "r = requests.get(url)\n",
    "print(r)"
   ]
  },
  {
   "cell_type": "code",
   "execution_count": 13,
   "metadata": {},
   "outputs": [
    {
     "name": "stdout",
     "output_type": "stream",
     "text": [
      "var returnCitySN = {\"cip\": \"113.140.11.6\", \"cid\": \"610100\", \"cname\": \"陕西省西安市\"};\n"
     ]
    }
   ],
   "source": [
    "str = r.text\n",
    "print(str)"
   ]
  },
  {
   "cell_type": "code",
   "execution_count": 17,
   "metadata": {},
   "outputs": [],
   "source": [
    "loc = str[28:40]"
   ]
  },
  {
   "cell_type": "code",
   "execution_count": 19,
   "metadata": {},
   "outputs": [],
   "source": [
    "url_loc = \"https://apis.map.qq.com/ws/location/v1/ip?ip=\"+loc+\"&key=IQ5BZ-OCJ6G-W4YQF-IBEQ2-GVG3H-3IBG6\"\n",
    "r_loc = requests.get(url_loc)"
   ]
  },
  {
   "cell_type": "code",
   "execution_count": 26,
   "metadata": {},
   "outputs": [
    {
     "name": "stdout",
     "output_type": "stream",
     "text": [
      "{'status': 0, 'message': 'query ok', 'result': {'ip': '113.140.11.6', 'location': {'lat': 34.34127, 'lng': 108.93984}, 'ad_info': {'nation': '中国', 'province': '陕西省', 'city': '西安市', 'district': '', 'adcode': 610100}}}\n"
     ]
    }
   ],
   "source": [
    "str_loc = r_loc.json()\n",
    "print(str_loc)"
   ]
  },
  {
   "cell_type": "code",
   "execution_count": 34,
   "metadata": {},
   "outputs": [
    {
     "data": {
      "text/plain": [
       "'西安市'"
      ]
     },
     "execution_count": 34,
     "metadata": {},
     "output_type": "execute_result"
    }
   ],
   "source": [
    "str_loc[\"result\"][\"ad_info\"][\"city\"]"
   ]
  },
  {
   "cell_type": "code",
   "execution_count": 35,
   "metadata": {},
   "outputs": [],
   "source": [
    "city = str_loc[\"result\"][\"ad_info\"][\"city\"]\n",
    "province = str_loc[\"result\"][\"ad_info\"][\"province\"]\n",
    "nation = str_loc[\"result\"][\"ad_info\"][\"nation\"]\n",
    "location = nation+province+city"
   ]
  },
  {
   "cell_type": "code",
   "execution_count": 36,
   "metadata": {},
   "outputs": [
    {
     "data": {
      "text/plain": [
       "'中国陕西省西安市'"
      ]
     },
     "execution_count": 36,
     "metadata": {},
     "output_type": "execute_result"
    }
   ],
   "source": [
    "location"
   ]
  },
  {
   "cell_type": "code",
   "execution_count": null,
   "metadata": {},
   "outputs": [],
   "source": []
  }
 ],
 "metadata": {
  "kernelspec": {
   "display_name": "Python 3",
   "language": "python",
   "name": "python3"
  },
  "language_info": {
   "codemirror_mode": {
    "name": "ipython",
    "version": 3
   },
   "file_extension": ".py",
   "mimetype": "text/x-python",
   "name": "python",
   "nbconvert_exporter": "python",
   "pygments_lexer": "ipython3",
   "version": "3.7.4"
  }
 },
 "nbformat": 4,
 "nbformat_minor": 2
}
